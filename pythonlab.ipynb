{
 "cells": [
  {
   "cell_type": "code",
   "execution_count": 1,
   "id": "e8b89a7f-82e4-43e3-8abf-8a609dc09fe2",
   "metadata": {},
   "outputs": [
    {
     "ename": "KeyboardInterrupt",
     "evalue": "Interrupted by user",
     "output_type": "error",
     "traceback": [
      "\u001b[1;31m---------------------------------------------------------------------------\u001b[0m",
      "\u001b[1;31mKeyboardInterrupt\u001b[0m                         Traceback (most recent call last)",
      "Cell \u001b[1;32mIn[1], line 2\u001b[0m\n\u001b[0;32m      1\u001b[0m \u001b[38;5;66;03m# Get the number of subjects for the 4th semester\u001b[39;00m\n\u001b[1;32m----> 2\u001b[0m n \u001b[38;5;241m=\u001b[39m \u001b[38;5;28mint\u001b[39m(\u001b[38;5;28;43minput\u001b[39;49m\u001b[43m(\u001b[49m\u001b[38;5;124;43m\"\u001b[39;49m\u001b[38;5;124;43mEnter number of subjects for 4th sem: \u001b[39;49m\u001b[38;5;124;43m\"\u001b[39;49m\u001b[43m)\u001b[49m)\n\u001b[0;32m      3\u001b[0m sub \u001b[38;5;241m=\u001b[39m []\n\u001b[0;32m      5\u001b[0m \u001b[38;5;66;03m# Collect the subjects\u001b[39;00m\n",
      "File \u001b[1;32mC:\\New folder\\Lib\\site-packages\\ipykernel\\kernelbase.py:1282\u001b[0m, in \u001b[0;36mKernel.raw_input\u001b[1;34m(self, prompt)\u001b[0m\n\u001b[0;32m   1280\u001b[0m     msg \u001b[38;5;241m=\u001b[39m \u001b[38;5;124m\"\u001b[39m\u001b[38;5;124mraw_input was called, but this frontend does not support input requests.\u001b[39m\u001b[38;5;124m\"\u001b[39m\n\u001b[0;32m   1281\u001b[0m     \u001b[38;5;28;01mraise\u001b[39;00m StdinNotImplementedError(msg)\n\u001b[1;32m-> 1282\u001b[0m \u001b[38;5;28;01mreturn\u001b[39;00m \u001b[38;5;28;43mself\u001b[39;49m\u001b[38;5;241;43m.\u001b[39;49m\u001b[43m_input_request\u001b[49m\u001b[43m(\u001b[49m\n\u001b[0;32m   1283\u001b[0m \u001b[43m    \u001b[49m\u001b[38;5;28;43mstr\u001b[39;49m\u001b[43m(\u001b[49m\u001b[43mprompt\u001b[49m\u001b[43m)\u001b[49m\u001b[43m,\u001b[49m\n\u001b[0;32m   1284\u001b[0m \u001b[43m    \u001b[49m\u001b[38;5;28;43mself\u001b[39;49m\u001b[38;5;241;43m.\u001b[39;49m\u001b[43m_parent_ident\u001b[49m\u001b[43m[\u001b[49m\u001b[38;5;124;43m\"\u001b[39;49m\u001b[38;5;124;43mshell\u001b[39;49m\u001b[38;5;124;43m\"\u001b[39;49m\u001b[43m]\u001b[49m\u001b[43m,\u001b[49m\n\u001b[0;32m   1285\u001b[0m \u001b[43m    \u001b[49m\u001b[38;5;28;43mself\u001b[39;49m\u001b[38;5;241;43m.\u001b[39;49m\u001b[43mget_parent\u001b[49m\u001b[43m(\u001b[49m\u001b[38;5;124;43m\"\u001b[39;49m\u001b[38;5;124;43mshell\u001b[39;49m\u001b[38;5;124;43m\"\u001b[39;49m\u001b[43m)\u001b[49m\u001b[43m,\u001b[49m\n\u001b[0;32m   1286\u001b[0m \u001b[43m    \u001b[49m\u001b[43mpassword\u001b[49m\u001b[38;5;241;43m=\u001b[39;49m\u001b[38;5;28;43;01mFalse\u001b[39;49;00m\u001b[43m,\u001b[49m\n\u001b[0;32m   1287\u001b[0m \u001b[43m\u001b[49m\u001b[43m)\u001b[49m\n",
      "File \u001b[1;32mC:\\New folder\\Lib\\site-packages\\ipykernel\\kernelbase.py:1325\u001b[0m, in \u001b[0;36mKernel._input_request\u001b[1;34m(self, prompt, ident, parent, password)\u001b[0m\n\u001b[0;32m   1322\u001b[0m \u001b[38;5;28;01mexcept\u001b[39;00m \u001b[38;5;167;01mKeyboardInterrupt\u001b[39;00m:\n\u001b[0;32m   1323\u001b[0m     \u001b[38;5;66;03m# re-raise KeyboardInterrupt, to truncate traceback\u001b[39;00m\n\u001b[0;32m   1324\u001b[0m     msg \u001b[38;5;241m=\u001b[39m \u001b[38;5;124m\"\u001b[39m\u001b[38;5;124mInterrupted by user\u001b[39m\u001b[38;5;124m\"\u001b[39m\n\u001b[1;32m-> 1325\u001b[0m     \u001b[38;5;28;01mraise\u001b[39;00m \u001b[38;5;167;01mKeyboardInterrupt\u001b[39;00m(msg) \u001b[38;5;28;01mfrom\u001b[39;00m \u001b[38;5;28;01mNone\u001b[39;00m\n\u001b[0;32m   1326\u001b[0m \u001b[38;5;28;01mexcept\u001b[39;00m \u001b[38;5;167;01mException\u001b[39;00m:\n\u001b[0;32m   1327\u001b[0m     \u001b[38;5;28mself\u001b[39m\u001b[38;5;241m.\u001b[39mlog\u001b[38;5;241m.\u001b[39mwarning(\u001b[38;5;124m\"\u001b[39m\u001b[38;5;124mInvalid Message:\u001b[39m\u001b[38;5;124m\"\u001b[39m, exc_info\u001b[38;5;241m=\u001b[39m\u001b[38;5;28;01mTrue\u001b[39;00m)\n",
      "\u001b[1;31mKeyboardInterrupt\u001b[0m: Interrupted by user"
     ]
    }
   ],
   "source": [
    "# Get the number of subjects for the 4th semester\n",
    "n = int(input(\"Enter number of subjects for 4th sem: \"))\n",
    "sub = []\n",
    "\n",
    "# Collect the subjects\n",
    "for i in range(n):\n",
    "    s = input()\n",
    "    sub.append(s)\n",
    "\n",
    "# Print each subject (the original code prints characters of the last input, which is incorrect)\n",
    "for subject in sub:\n",
    "    print(subject)\n",
    "\n",
    "# Print the 2nd and 5th subjects, ensure there are at least 5 subjects\n",
    "if n >= 5:\n",
    "    print('2nd and 5th sub of sem:', sub[1], sub[4])\n",
    "else:\n",
    "    print(\"There are not enough subjects to print 2nd and 5th.\")\n",
    "\n",
    "# Print the first 4 subjects\n",
    "print(\"First 4 subjects of the sem:\", sub[:4])\n",
    "\n",
    "# Print the last 4 subjects\n",
    "print(\"Last 4 subjects of the sem:\", sub[-4:])\n",
    "\n",
    "# Check if \"python lab\" is in the list of subjects\n",
    "if \"python lab\" in sub:\n",
    "    print('Yes')\n",
    "else:\n",
    "    print('No')\n",
    "\n",
    "# Append \"sub1\" to the list of subjects\n",
    "sub.append(\"sub1\")\n",
    "print(\"After appending:\", sub)\n",
    "\n",
    "# Insert \"sub0\" at the 3rd position\n",
    "sub.insert(2, \"sub0\")\n",
    "print(sub)\n",
    "\n",
    "# Pop the last subject from the list\n",
    "print(\"Pop\")\n",
    "sub.pop()\n",
    "print(sub)\n",
    "\n",
    "# Remove \"sub0\" from the list\n",
    "print(\"Remove operation\")\n",
    "sub.remove(\"sub0\")\n",
    "print(sub)\n"
   ]
  },
  {
   "cell_type": "code",
   "execution_count": 15,
   "id": "d4a2d9a2-7816-41f5-9919-186ed4528c36",
   "metadata": {},
   "outputs": [
    {
     "name": "stdout",
     "output_type": "stream",
     "text": [
      "Enter number of members:  3\n",
      "Enter username:  rahul\n",
      "Enter password:  genius\n",
      "Enter username:  kumar\n",
      "Enter password:  smart\n",
      "Enter username:  nkita\n",
      "Enter password:  intelligent\n"
     ]
    },
    {
     "name": "stdout",
     "output_type": "stream",
     "text": [
      "{'rahul': 'genius', 'kumar': 'smart', 'nkita': 'intelligent'}\n",
      "dict_items([('rahul', 'genius'), ('kumar', 'smart'), ('nkita', 'intelligent')])\n",
      "dict_keys(['rahul', 'kumar', 'nkita'])\n",
      "dict_values(['genius', 'smart', 'intelligent'])\n",
      "rahul:genius\n",
      "kumar:smart\n",
      "nkita:intelligent\n",
      "{'rahul': 'genius', 'kumar': 'smart', 'nkita': 'intelligent', 'ankita': 'brilliant'}\n"
     ]
    }
   ],
   "source": [
    "n = int(input(\"Enter number of members: \"))\n",
    "user_dict = {}\n",
    "\n",
    "def add_user(username, passwd):\n",
    "    user_dict[username] = passwd\n",
    "\n",
    "for i in range(n):\n",
    "    username = input(\"Enter username: \")\n",
    "    passwd = input(\"Enter password: \")\n",
    "    add_user(username, passwd)\n",
    "\n",
    "print(user_dict)\n",
    "print(user_dict.items())\n",
    "print(user_dict.keys())\n",
    "print(user_dict.values())\n",
    "for i in user_dict:\n",
    "    print(i+\":\"+user_dict[i])\n",
    "    \n",
    "user_dict['ankita']=\"brilliant\"\n",
    "print(user_dict)\n"
   ]
  },
  {
   "cell_type": "code",
   "execution_count": 16,
   "id": "bc35845f-11ec-4081-b51a-cb02ac4261e7",
   "metadata": {},
   "outputs": [
    {
     "name": "stdout",
     "output_type": "stream",
     "text": [
      " 4\n",
      " 5\n",
      "Enter your choice: \n",
      " 1.Addition\n",
      "2.Subtractiion\n",
      "3.Multiplication\n",
      "4.Division\n",
      " 1\n"
     ]
    },
    {
     "name": "stdout",
     "output_type": "stream",
     "text": [
      "addition of 2 numbers =  9\n"
     ]
    }
   ],
   "source": [
    "num1 = int(input())\n",
    "num2 = int(input())\n",
    "ch = input(\"Enter your choice: \\n 1.Addition\\n2.Subtractiion\\n3.Multiplication\\n4.Division\\n\")\n",
    "if ch=='1':\n",
    "    print(\"addition of 2 numbers = \",num1+num2)\n",
    "elif ch=='2':\n",
    "    print(\"Subtarction of 2 numbers = \",num1-num2)\n",
    "elif ch=='3':\n",
    "    print(\"multiplication of 2 number = \",num1*num2)\n",
    "elif ch=='4':\n",
    "    if b!=0:\n",
    "        print(\"Division of 2 numbers = \",num1/num2)\n",
    "    else:\n",
    "        print(\"We can't devide by zero\")\n",
    "else:\n",
    "    print('Invalid choice')\n"
   ]
  },
  {
   "cell_type": "code",
   "execution_count": 18,
   "id": "67d2b0f1-401c-44af-9c9a-ab5f836a59a8",
   "metadata": {},
   "outputs": [
    {
     "name": "stdout",
     "output_type": "stream",
     "text": [
      "Enter number of tuples: 2\n",
      " sakshi\n",
      " samarth\n"
     ]
    },
    {
     "name": "stdout",
     "output_type": "stream",
     "text": [
      "[('sakshi', 6), ('samarth', 7)]\n",
      "tuples sorted by lenght:\n",
      "[('sakshi', 6), ('samarth', 7)]\n"
     ]
    }
   ],
   "source": [
    "n = int(input(\"Enter number of tuples:\"))\n",
    "tup = []\n",
    "for i in range(n):\n",
    "    s = input()\n",
    "    l = len(s)\n",
    "    tup.append((s,l))\n",
    "\n",
    "print(tup)\n",
    "print(\"tuples sorted by lenght:\")\n",
    "tup.sort(key=lambda x :x[1])\n",
    "print(tup)\n"
   ]
  },
  {
   "cell_type": "code",
   "execution_count": 9,
   "id": "90a4251d-8e8c-44a5-aecb-c1645fec6b24",
   "metadata": {},
   "outputs": [
    {
     "name": "stdout",
     "output_type": "stream",
     "text": [
      "Enter number of words in the dictionary:  2\n",
      "Enter a word:  true\n",
      "Enter the meaning of the word:  nija\n",
      "Enter a word:  lie\n",
      "Enter the meaning of the word:  false\n"
     ]
    },
    {
     "name": "stdout",
     "output_type": "stream",
     "text": [
      "The dictionary: {'true': 'nija', 'lie': 'false'}\n"
     ]
    },
    {
     "name": "stdout",
     "output_type": "stream",
     "text": [
      "Enter a word for searching operation:  false\n"
     ]
    },
    {
     "name": "stdout",
     "output_type": "stream",
     "text": [
      "'false' is not in the dictionary\n"
     ]
    },
    {
     "name": "stdout",
     "output_type": "stream",
     "text": [
      "Enter a meaning to find the corresponding word(s):  false\n"
     ]
    },
    {
     "name": "stdout",
     "output_type": "stream",
     "text": [
      "The word(s) with the meaning 'false' is/are: lie\n"
     ]
    }
   ],
   "source": [
    "n = int(input(\"Enter number of words in the dictionary: \"))\n",
    "dictionary = {}\n",
    "\n",
    "def new_entry(word, meaning):\n",
    "    dictionary[word] = meaning\n",
    "\n",
    "# Loop to input words and their meanings\n",
    "for _ in range(n):\n",
    "    w = input(\"Enter a word: \")\n",
    "    m = input(\"Enter the meaning of the word: \")\n",
    "    new_entry(w, m)\n",
    "\n",
    "# Print the final dictionary\n",
    "print(\"The dictionary:\", dictionary)\n",
    "\n",
    "# Search for a word in the dictionary\n",
    "s = input(\"Enter a word for searching operation: \")\n",
    "if s in dictionary:\n",
    "    print(f\"The meaning of '{s}' is: {dictionary[s]}\")\n",
    "else:\n",
    "    print(f\"'{s}' is not in the dictionary\")\n",
    "\n",
    "# Retrieve word(s) from the given meaning\n",
    "search_meaning = input(\"Enter a meaning to find the corresponding word(s): \")\n",
    "words_with_meaning = [word for word, mean in dictionary.items() if mean == search_meaning]\n",
    "\n",
    "if words_with_meaning:\n",
    "    print(f\"The word(s) with the meaning '{search_meaning}' is/are: {', '.join(words_with_meaning)}\")\n",
    "else:\n",
    "    print(f\"No words found with the meaning '{search_meaning}'\")\n"
   ]
  },
  {
   "cell_type": "code",
   "execution_count": 2,
   "id": "a79d11bf-e28d-44fa-9ff7-f3647cdb11b9",
   "metadata": {},
   "outputs": [
    {
     "name": "stdout",
     "output_type": "stream",
     "text": [
      "\n",
      "Array Operations Menu\n",
      "1. Find max and min\n",
      "2. Find second largest number\n",
      "3. Exit\n"
     ]
    },
    {
     "name": "stdout",
     "output_type": "stream",
     "text": [
      "Enter your choice:  1\n",
      "Enter the array elements separated by space:  2 3 10 11 1\n"
     ]
    },
    {
     "name": "stdout",
     "output_type": "stream",
     "text": [
      "Maximum number: 11, Minimum number: 1\n",
      "\n",
      "Array Operations Menu\n",
      "1. Find max and min\n",
      "2. Find second largest number\n",
      "3. Exit\n"
     ]
    },
    {
     "name": "stdout",
     "output_type": "stream",
     "text": [
      "Enter your choice:  3\n"
     ]
    },
    {
     "name": "stdout",
     "output_type": "stream",
     "text": [
      "Exiting...\n"
     ]
    }
   ],
   "source": [
    "# Function to find the maximum and minimum numbers in the array\n",
    "def find_max_min(arr):\n",
    "    max_num = max(arr)\n",
    "    min_num = min(arr)\n",
    "    return max_num, min_num\n",
    "\n",
    "# Function to find the second largest number in the array without sorting\n",
    "def find_second_largest(arr):\n",
    "    first, second = float('-inf'), float('-inf')\n",
    "    for number in arr:\n",
    "        if number > first:\n",
    "            first, second = number, first\n",
    "        elif first > number > second:\n",
    "            second = number\n",
    "    return second if second != float('-inf') else None\n",
    "\n",
    "# Function to display the menu and perform operations\n",
    "def array_operations_menu():\n",
    "    while True:\n",
    "        print(\"\\nArray Operations Menu\")\n",
    "        print(\"1. Find max and min\")\n",
    "        print(\"2. Find second largest number\")\n",
    "        print(\"3. Exit\")\n",
    "        choice = int(input(\"Enter your choice: \"))\n",
    "\n",
    "        if choice == 1:\n",
    "            arr = list(map(int, input(\"Enter the array elements separated by space: \").split()))\n",
    "            max_num, min_num = find_max_min(arr)\n",
    "            print(f\"Maximum number: {max_num}, Minimum number: {min_num}\")\n",
    "        elif choice == 2:\n",
    "            arr = list(map(int, input(\"Enter the array elements separated by space: \").split()))\n",
    "            second_largest = find_second_largest(arr)\n",
    "            if second_largest is not None:\n",
    "                print(f\"Second largest number: {second_largest}\")\n",
    "            else:\n",
    "                print(\"Array does not have enough unique elements\")\n",
    "        elif choice == 3:\n",
    "            print(\"Exiting...\")\n",
    "            break\n",
    "        else:\n",
    "            print(\"Invalid choice. Please try again.\")\n",
    "\n",
    "# Run the menu\n",
    "array_operations_menu()\n"
   ]
  },
  {
   "cell_type": "code",
   "execution_count": 5,
   "id": "12f3bae0-54dd-44cb-bf91-06c9d19c1685",
   "metadata": {},
   "outputs": [
    {
     "name": "stdout",
     "output_type": "stream",
     "text": [
      "Binary search!\n"
     ]
    },
    {
     "name": "stdout",
     "output_type": "stream",
     "text": [
      "Enter array elements:  2,4,3,1,10\n",
      "Enter the element to search for:  2\n"
     ]
    },
    {
     "name": "stdout",
     "output_type": "stream",
     "text": [
      "Element found at index 1\n"
     ]
    }
   ],
   "source": [
    "print(\"Binary search!\")\n",
    "arr = list(map(int, input(\"Enter array elements: \").split(',')))\n",
    "key = int(input(\"Enter the element to search for: \"))\n",
    "\n",
    "def binary_search(arr, key):\n",
    "    arr.sort()  # Ensure the array is sorted\n",
    "    high, low = len(arr) - 1, 0\n",
    "    while low <= high:\n",
    "        mid = (high + low) // 2\n",
    "        if arr[mid] == key:\n",
    "            return mid\n",
    "        elif key > arr[mid]:\n",
    "            low = mid + 1\n",
    "        else:\n",
    "            high = mid - 1\n",
    "    return -1  # Element not found\n",
    "\n",
    "s = binary_search(arr, key)\n",
    "if s != -1:\n",
    "    print(f\"Element found at index {s}\")\n",
    "else:\n",
    "    print(\"Element not found\")\n"
   ]
  },
  {
   "cell_type": "code",
   "execution_count": 4,
   "id": "c803711a-3fbe-4396-911f-e63a2ac2f1b8",
   "metadata": {},
   "outputs": [
    {
     "name": "stdout",
     "output_type": "stream",
     "text": [
      " 10,19,22\n",
      "Enter key value: 19\n"
     ]
    },
    {
     "name": "stdout",
     "output_type": "stream",
     "text": [
      "key is found at 1 \n"
     ]
    }
   ],
   "source": [
    "arr = list(map(int,input().split(',')))\n",
    "key = int(input(\"Enter key value:\"))\n",
    "\n",
    "def binary_search(arr,key):\n",
    "    arr.sort()\n",
    "    low,high = 0,len(arr)-1\n",
    "    while low<high:\n",
    "        mid = (high+low)//2\n",
    "        if key ==arr[mid]:\n",
    "            return mid\n",
    "        elif key >arr[mid]:\n",
    "            low = mid+1\n",
    "        else:\n",
    "            high = mid-1\n",
    "    return -1\n",
    "\n",
    "r = binary_search(arr,key)\n",
    "\n",
    "if r!=-1:\n",
    "    print(f\"key is found at {r} \")\n",
    "else:\n",
    "    print(\"Key not found\")"
   ]
  },
  {
   "cell_type": "code",
   "execution_count": null,
   "id": "ad2e160f-4210-4ff2-868b-7536010a4179",
   "metadata": {},
   "outputs": [],
   "source": []
  }
 ],
 "metadata": {
  "kernelspec": {
   "display_name": "Python 3 (ipykernel)",
   "language": "python",
   "name": "python3"
  },
  "language_info": {
   "codemirror_mode": {
    "name": "ipython",
    "version": 3
   },
   "file_extension": ".py",
   "mimetype": "text/x-python",
   "name": "python",
   "nbconvert_exporter": "python",
   "pygments_lexer": "ipython3",
   "version": "3.12.4"
  }
 },
 "nbformat": 4,
 "nbformat_minor": 5
}
