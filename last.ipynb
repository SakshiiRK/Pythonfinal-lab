{
 "cells": [
  {
   "cell_type": "code",
   "execution_count": 4,
   "id": "e01fa972-5be3-427e-8067-fb26a58e3d8f",
   "metadata": {},
   "outputs": [
    {
     "name": "stdin",
     "output_type": "stream",
     "text": [
      "Enter lower : 1\n",
      "Ente upper bound: 10\n"
     ]
    },
    {
     "name": "stdout",
     "output_type": "stream",
     "text": [
      "2\n",
      "3\n",
      "5\n",
      "7\n"
     ]
    }
   ],
   "source": [
    "low = int(input(\"Enter lower :\"))\n",
    "high = int(input(\"Ente upper bound:\"))\n",
    "for i in range(low,high+1):\n",
    "    if i > 1:\n",
    "        for num in range (2,i):\n",
    "            if(i%num==0):\n",
    "                break;\n",
    "        else:\n",
    "            print(i)"
   ]
  },
  {
   "cell_type": "code",
   "execution_count": 7,
   "id": "607b94e1-7b00-444d-9e7f-739acd42e420",
   "metadata": {},
   "outputs": [
    {
     "name": "stdin",
     "output_type": "stream",
     "text": [
      "Enter lower bound: 0\n",
      "Enter upper bound: 10\n"
     ]
    },
    {
     "name": "stdout",
     "output_type": "stream",
     "text": [
      "2\n",
      "3\n",
      "5\n",
      "7\n"
     ]
    }
   ],
   "source": [
    "low = int(input(\"Enter lower bound:\"))\n",
    "high = int(input(\"Enter upper bound:\"))\n",
    "for num in range(low,high+1):\n",
    "    if num>1:\n",
    "        for i in range(2,num):\n",
    "            if num%i == 0:\n",
    "                break\n",
    "        else:\n",
    "            print(num)"
   ]
  },
  {
   "cell_type": "code",
   "execution_count": 11,
   "id": "18266ec8-dbe6-4bec-9f93-aeb85e8e4d5e",
   "metadata": {},
   "outputs": [
    {
     "name": "stdin",
     "output_type": "stream",
     "text": [
      "Enter number of iems in tuple: 3\n",
      " 10\n",
      " 20\n",
      " 30\n"
     ]
    },
    {
     "name": "stdout",
     "output_type": "stream",
     "text": [
      "Adding item in the tuple:\n"
     ]
    },
    {
     "name": "stdin",
     "output_type": "stream",
     "text": [
      " 40\n"
     ]
    },
    {
     "name": "stdout",
     "output_type": "stream",
     "text": [
      "(10, 20, 30, 40)\n",
      "Length of the tuple =  4\n"
     ]
    },
    {
     "name": "stdin",
     "output_type": "stream",
     "text": [
      "Enter number for checking: 56\n"
     ]
    },
    {
     "name": "stdout",
     "output_type": "stream",
     "text": [
      "No\n",
      "30\n"
     ]
    }
   ],
   "source": [
    "n = int(input(\"Enter number of iems in tuple:\"))\n",
    "lis = []\n",
    "for i in range(n):\n",
    "    s = int(input())\n",
    "    lis.append(s)\n",
    "\n",
    "numbers = tuple(lis)\n",
    "\n",
    "print(\"Adding item in the tuple:\")\n",
    "num = int(input())\n",
    "numbers =numbers+( num,)\n",
    "print(numbers)\n",
    "print(\"Length of the tuple = \",len(numbers))\n",
    "c = int(input(\"Enter number for checking:\"))\n",
    "if c in numbers:\n",
    "    print(\"Yes\")\n",
    "else:\n",
    "    print(\"No\")\n",
    "\n",
    "print(numbers[2])\n"
   ]
  },
  {
   "cell_type": "code",
   "execution_count": 21,
   "id": "e95243f3-bbcf-43ef-ba92-bde5cd4248d5",
   "metadata": {},
   "outputs": [
    {
     "name": "stdout",
     "output_type": "stream",
     "text": [
      "[3198, 3858, 67, 4895, 1488, 6894, 1380, 6581, 2514, 3577, 3953, 7248, 8201, 9957, 4799, 3053, 9234, 4946, 5873, 9485]\n",
      "67\n",
      "4895\n",
      "6581\n",
      "3577\n",
      "3953\n",
      "8201\n",
      "9957\n",
      "4799\n",
      "3053\n",
      "5873\n",
      "9485\n"
     ]
    }
   ],
   "source": [
    "import random\n",
    "n = [random.randint(1,10000) for x in range(20)]\n",
    "print(n)\n",
    "for i in n:\n",
    "    if i%2 != 0:\n",
    "        if len(str(i))==2 or len(str(i))==4 :\n",
    "            print(i)\n",
    "        \n",
    "        "
   ]
  },
  {
   "cell_type": "code",
   "execution_count": 22,
   "id": "c4dc08c3-a5b8-4a16-9fb8-7c0082fb347d",
   "metadata": {},
   "outputs": [
    {
     "name": "stdout",
     "output_type": "stream",
     "text": [
      "\n",
      "Options:\n",
      "1. Push to stack\n",
      "2. Pop from stack\n",
      "3. Peek at the top of the stack\n",
      "4. Check if the stack is empty\n",
      "5. Get the size of the stack\n",
      "6. Enqueue to queue\n",
      "7. Dequeue from queue\n",
      "8. Peek at the front of the queue\n",
      "9. Check if the queue is empty\n",
      "10. Get the size of the queue\n",
      "11. Exit\n"
     ]
    },
    {
     "name": "stdin",
     "output_type": "stream",
     "text": [
      "Enter your choice (1-11):  1\n",
      "Enter the item to push to stack:  29\n"
     ]
    },
    {
     "name": "stdout",
     "output_type": "stream",
     "text": [
      "'29' has been pushed to the stack.\n",
      "\n",
      "Options:\n",
      "1. Push to stack\n",
      "2. Pop from stack\n",
      "3. Peek at the top of the stack\n",
      "4. Check if the stack is empty\n",
      "5. Get the size of the stack\n",
      "6. Enqueue to queue\n",
      "7. Dequeue from queue\n",
      "8. Peek at the front of the queue\n",
      "9. Check if the queue is empty\n",
      "10. Get the size of the queue\n",
      "11. Exit\n"
     ]
    },
    {
     "name": "stdin",
     "output_type": "stream",
     "text": [
      "Enter your choice (1-11):  3\n"
     ]
    },
    {
     "name": "stdout",
     "output_type": "stream",
     "text": [
      "Top item in stack: 29\n",
      "\n",
      "Options:\n",
      "1. Push to stack\n",
      "2. Pop from stack\n",
      "3. Peek at the top of the stack\n",
      "4. Check if the stack is empty\n",
      "5. Get the size of the stack\n",
      "6. Enqueue to queue\n",
      "7. Dequeue from queue\n",
      "8. Peek at the front of the queue\n",
      "9. Check if the queue is empty\n",
      "10. Get the size of the queue\n",
      "11. Exit\n"
     ]
    },
    {
     "name": "stdin",
     "output_type": "stream",
     "text": [
      "Enter your choice (1-11):  6\n",
      "Enter the item to enqueue to queue:  11\n"
     ]
    },
    {
     "name": "stdout",
     "output_type": "stream",
     "text": [
      "'11' has been enqueued to the queue.\n",
      "\n",
      "Options:\n",
      "1. Push to stack\n",
      "2. Pop from stack\n",
      "3. Peek at the top of the stack\n",
      "4. Check if the stack is empty\n",
      "5. Get the size of the stack\n",
      "6. Enqueue to queue\n",
      "7. Dequeue from queue\n",
      "8. Peek at the front of the queue\n",
      "9. Check if the queue is empty\n",
      "10. Get the size of the queue\n",
      "11. Exit\n"
     ]
    },
    {
     "name": "stdin",
     "output_type": "stream",
     "text": [
      "Enter your choice (1-11):  7\n"
     ]
    },
    {
     "name": "stdout",
     "output_type": "stream",
     "text": [
      "Dequeued item from queue: 11\n",
      "\n",
      "Options:\n",
      "1. Push to stack\n",
      "2. Pop from stack\n",
      "3. Peek at the top of the stack\n",
      "4. Check if the stack is empty\n",
      "5. Get the size of the stack\n",
      "6. Enqueue to queue\n",
      "7. Dequeue from queue\n",
      "8. Peek at the front of the queue\n",
      "9. Check if the queue is empty\n",
      "10. Get the size of the queue\n",
      "11. Exit\n"
     ]
    },
    {
     "name": "stdin",
     "output_type": "stream",
     "text": [
      "Enter your choice (1-11):  8\n"
     ]
    },
    {
     "name": "stdout",
     "output_type": "stream",
     "text": [
      "Front item in queue: Queue is empty\n",
      "\n",
      "Options:\n",
      "1. Push to stack\n",
      "2. Pop from stack\n",
      "3. Peek at the top of the stack\n",
      "4. Check if the stack is empty\n",
      "5. Get the size of the stack\n",
      "6. Enqueue to queue\n",
      "7. Dequeue from queue\n",
      "8. Peek at the front of the queue\n",
      "9. Check if the queue is empty\n",
      "10. Get the size of the queue\n",
      "11. Exit\n"
     ]
    },
    {
     "name": "stdin",
     "output_type": "stream",
     "text": [
      "Enter your choice (1-11):  11\\\n"
     ]
    },
    {
     "name": "stdout",
     "output_type": "stream",
     "text": [
      "Invalid choice. Please try again.\n",
      "\n",
      "Options:\n",
      "1. Push to stack\n",
      "2. Pop from stack\n",
      "3. Peek at the top of the stack\n",
      "4. Check if the stack is empty\n",
      "5. Get the size of the stack\n",
      "6. Enqueue to queue\n",
      "7. Dequeue from queue\n",
      "8. Peek at the front of the queue\n",
      "9. Check if the queue is empty\n",
      "10. Get the size of the queue\n",
      "11. Exit\n"
     ]
    },
    {
     "name": "stdin",
     "output_type": "stream",
     "text": [
      "Enter your choice (1-11):  11\n"
     ]
    },
    {
     "name": "stdout",
     "output_type": "stream",
     "text": [
      "Exiting program...\n"
     ]
    }
   ],
   "source": [
    "from collections import deque\n",
    "\n",
    "class Stack:\n",
    "    def __init__(self):\n",
    "        self.stack = []\n",
    "\n",
    "    def push(self, item):\n",
    "        self.stack.append(item)\n",
    "\n",
    "    def pop(self):\n",
    "        if not self.is_empty():\n",
    "            return self.stack.pop()\n",
    "        else:\n",
    "            return \"Stack is empty\"\n",
    "\n",
    "    def is_empty(self):\n",
    "        return len(self.stack) == 0\n",
    "\n",
    "    def peek(self):\n",
    "        if not self.is_empty():\n",
    "            return self.stack[-1]\n",
    "        else:\n",
    "            return \"Stack is empty\"\n",
    "\n",
    "    def size(self):\n",
    "        return len(self.stack)\n",
    "\n",
    "class Queue:\n",
    "    def __init__(self):\n",
    "        self.queue = deque()\n",
    "\n",
    "    def enqueue(self, item):\n",
    "        self.queue.append(item)\n",
    "\n",
    "    def dequeue(self):\n",
    "        if not self.is_empty():\n",
    "            return self.queue.popleft()\n",
    "        else:\n",
    "            return \"Queue is empty\"\n",
    "\n",
    "    def is_empty(self):\n",
    "        return len(self.queue) == 0\n",
    "\n",
    "    def front(self):\n",
    "        if not self.is_empty():\n",
    "            return self.queue[0]\n",
    "        else:\n",
    "            return \"Queue is empty\"\n",
    "\n",
    "    def size(self):\n",
    "        return len(self.queue)\n",
    "\n",
    "# Create instances of Stack and Queue\n",
    "stack = Stack()\n",
    "queue = Queue()\n",
    "\n",
    "while True:\n",
    "    print(\"\\nOptions:\")\n",
    "    print(\"1. Push to stack\")\n",
    "    print(\"2. Pop from stack\")\n",
    "    print(\"3. Peek at the top of the stack\")\n",
    "    print(\"4. Check if the stack is empty\")\n",
    "    print(\"5. Get the size of the stack\")\n",
    "    print(\"6. Enqueue to queue\")\n",
    "    print(\"7. Dequeue from queue\")\n",
    "    print(\"8. Peek at the front of the queue\")\n",
    "    print(\"9. Check if the queue is empty\")\n",
    "    print(\"10. Get the size of the queue\")\n",
    "    print(\"11. Exit\")\n",
    "\n",
    "    choice = input(\"Enter your choice (1-11): \")\n",
    "\n",
    "    if choice == '1':\n",
    "        item = input(\"Enter the item to push to stack: \")\n",
    "        stack.push(item)\n",
    "        print(f\"'{item}' has been pushed to the stack.\")\n",
    "    elif choice == '2':\n",
    "        popped_item = stack.pop()\n",
    "        print(f\"Popped item from stack: {popped_item}\")\n",
    "    elif choice == '3':\n",
    "        top_item = stack.peek()\n",
    "        print(f\"Top item in stack: {top_item}\")\n",
    "    elif choice == '4':\n",
    "        if stack.is_empty():\n",
    "            print(\"The stack is empty.\")\n",
    "        else:\n",
    "            print(\"The stack is not empty.\")\n",
    "    elif choice == '5':\n",
    "        print(f\"Size of the stack: {stack.size()}\")\n",
    "    elif choice == '6':\n",
    "        item = input(\"Enter the item to enqueue to queue: \")\n",
    "        queue.enqueue(item)\n",
    "        print(f\"'{item}' has been enqueued to the queue.\")\n",
    "    elif choice == '7':\n",
    "        dequeued_item = queue.dequeue()\n",
    "        print(f\"Dequeued item from queue: {dequeued_item}\")\n",
    "    elif choice == '8':\n",
    "        front_item = queue.front()\n",
    "        print(f\"Front item in queue: {front_item}\")\n",
    "    elif choice == '9':\n",
    "        if queue.is_empty():\n",
    "            print(\"The queue is empty.\")\n",
    "        else:\n",
    "            print(\"The queue is not empty.\")\n",
    "    elif choice == '10':\n",
    "        print(f\"Size of the queue: {queue.size()}\")\n",
    "    elif choice == '11':\n",
    "        print(\"Exiting program...\")\n",
    "        break\n",
    "    else:\n",
    "        print(\"Invalid choice. Please try again.\")\n"
   ]
  },
  {
   "cell_type": "code",
   "execution_count": 47,
   "id": "6e64089f-2de6-450d-9dfc-913e1a192045",
   "metadata": {},
   "outputs": [
    {
     "name": "stdin",
     "output_type": "stream",
     "text": [
      " sakshi\n",
      " r\n",
      " j\n",
      " kdd\n",
      " jfja\n",
      " fbdsjfd\n"
     ]
    },
    {
     "name": "stdout",
     "output_type": "stream",
     "text": [
      "No words found in the file.\n"
     ]
    }
   ],
   "source": [
    "f = open(\"file.txt\",\"w\")  \n",
    "for _ in range(6):\n",
    "    s = input()\n",
    "    f.write(s+\"\\n\")\n",
    "\n",
    "\n",
    "def long_short_word(filename):\n",
    "    with open(filename, \"r\") as f:\n",
    "        words = []\n",
    "        for line in f:\n",
    "            words.extend(line.split())  # Split line into words and add to the list\n",
    "\n",
    "    if words:  # Check if the list is not empty\n",
    "        longest_word = max(words, key=len)\n",
    "        shortest_word = min(words, key=len)\n",
    "        print(f\"Longest word: {longest_word}\")\n",
    "        print(f\"Shortest word: {shortest_word}\")\n",
    "    else:\n",
    "        print(\"No words found in the file.\")\n",
    "\n",
    "# Call the function\n",
    "long_short_word(\"file.txt\")\n",
    "\n",
    "   \n",
    "  \n",
    "    "
   ]
  },
  {
   "cell_type": "code",
   "execution_count": 65,
   "id": "da904069-5451-4ca8-b398-5ecfc1c81ad0",
   "metadata": {},
   "outputs": [
    {
     "name": "stdin",
     "output_type": "stream",
     "text": [
      "Enter number of elements in the array: 4\n",
      " 1\n",
      " 10\n",
      " -12\n",
      " 33\n"
     ]
    },
    {
     "name": "stdout",
     "output_type": "stream",
     "text": [
      "[[  1  10]\n",
      " [-12  33]]\n",
      "Reversing array:\n",
      "[[ 33 -12]\n",
      " [ 10   1]]\n",
      "Principle diagonal elements:\n",
      "[ 1 33]\n",
      "Sorting ascending order:\n",
      "[[-12   1]\n",
      " [ 10  33]]\n",
      "Descending order:\n",
      "[[ 33  10]\n",
      " [  1 -12]]\n"
     ]
    }
   ],
   "source": [
    "import numpy as np\n",
    "n = int(input('Enter number of elements in the array:'))\n",
    "arr = []\n",
    "for i in range(n):\n",
    "    b = int(input())\n",
    "    arr.append(b)\n",
    "array = np.array(arr)\n",
    "arr_2d = array.reshape(2,-1)\n",
    "print(arr_2d)\n",
    "print(\"Reversing array:\")\n",
    "print(arr_2d[::-1,::-1])\n",
    "print(\"Principle diagonal elements:\")\n",
    "print(np.diagonal(arr_2d))\n",
    "print(\"Sorting ascending order:\")\n",
    "rev_arr = np.sort(arr_2d,axis=None).reshape(arr_2d.shape)\n",
    "print(rev_arr)\n",
    "print(\"Descending order:\")\n",
    "des_arr = np.sort(arr_2d,axis=None)[::-1].reshape(arr_2d.shape)\n",
    "print(des_arr)\n"
   ]
  },
  {
   "cell_type": "code",
   "execution_count": 66,
   "id": "53b22360-4ba0-4c2f-a1a6-f1a00dcd3214",
   "metadata": {},
   "outputs": [
    {
     "name": "stdin",
     "output_type": "stream",
     "text": [
      " sakshi\n",
      " r\n",
      " kumbar\n",
      " whats up\n",
      " how r u\n",
      " hey\n"
     ]
    },
    {
     "name": "stdout",
     "output_type": "stream",
     "text": [
      "Longest word: sakshi\n",
      "Shortest word: r\n"
     ]
    }
   ],
   "source": [
    "# Write 6 lines of input to the file\n",
    "with open(\"file.txt\", \"w\") as f:\n",
    "    for _ in range(6):\n",
    "        s = input()\n",
    "        f.write(s + \"\\n\")\n",
    "\n",
    "# Define the function to find the longest and shortest words in the file\n",
    "def long_short_word(filename):\n",
    "    with open(filename, \"r\") as f:\n",
    "        words = []\n",
    "        for line in f:\n",
    "            words.extend(line.split())  # Split line into words and add to the list\n",
    "\n",
    "    if words:  # Check if the list is not empty\n",
    "        longest_word = max(words, key=len)\n",
    "        shortest_word = min(words, key=len)\n",
    "        print(f\"Longest word: {longest_word}\")\n",
    "        print(f\"Shortest word: {shortest_word}\")\n",
    "    else:\n",
    "        print(\"No words found in the file.\")\n",
    "\n",
    "# Call the function\n",
    "long_short_word(\"file.txt\")\n"
   ]
  },
  {
   "cell_type": "code",
   "execution_count": 76,
   "id": "a2ae8968-d1b4-4145-808b-2092eba425f9",
   "metadata": {},
   "outputs": [
    {
     "name": "stdout",
     "output_type": "stream",
     "text": [
      "First 5 rows:\n",
      "   Index      Customer Id First Name Last Name  \\\n",
      "0      1  DD37Cf93aecA6Dc     Sheryl    Baxter   \n",
      "1      2  1Ef7b82A4CAAD10    Preston    Lozano   \n",
      "2      3  6F94879bDAfE5a6        Roy     Berry   \n",
      "3      4  5Cef8BFA16c5e3c      Linda     Olsen   \n",
      "4      5  053d585Ab6b3159     Joanna    Bender   \n",
      "\n",
      "                           Company               City  \\\n",
      "0                  Rasmussen Group       East Leonard   \n",
      "1                      Vega-Gentry  East Jimmychester   \n",
      "2                    Murillo-Perry      Isabelborough   \n",
      "3  Dominguez, Mcmillan and Donovan         Bensonview   \n",
      "4         Martin, Lang and Andrade     West Priscilla   \n",
      "\n",
      "                      Country                 Phone 1                Phone 2  \\\n",
      "0                       Chile            229.077.5154       397.884.0519x718   \n",
      "1                    Djibouti              5153435776       686-620-1820x944   \n",
      "2         Antigua and Barbuda         +1-539-402-0259    (496)978-3969x58947   \n",
      "3          Dominican Republic  001-808-617-6467x12895        +1-813-324-8756   \n",
      "4  Slovakia (Slovak Republic)  001-234-203-0635x76146  001-199-446-3860x3486   \n",
      "\n",
      "                         Email Subscription Date                      Website  \n",
      "0     zunigavanessa@smith.info        2020-08-24   http://www.stephenson.com/  \n",
      "1              vmata@colon.com        2021-04-23        http://www.hobbs.com/  \n",
      "2          beckycarr@hogan.com        2020-03-25     http://www.lawrence.com/  \n",
      "3  stanleyblackwell@benson.org        2020-06-02   http://www.good-lyons.com/  \n",
      "4      colinalvarado@miles.net        2021-04-17  https://goodwin-ingram.com/  \n",
      "\n",
      "------------------------------------------------------------------------------------------------------------------\n",
      "Last 5 rows:\n",
      "\n",
      "    Index      Customer Id First Name Last Name                Company  \\\n",
      "95     96  cb8E23e48d22Eae       Karl     Greer              Carey LLC   \n",
      "96     97  CeD220bdAaCfaDf       Lynn  Atkinson  Ware, Burns and Oneal   \n",
      "97     98  28CDbC0dFe4b1Db       Fred    Guerra          Schmitt-Jones   \n",
      "98     99  c23d1D9EE8DEB0A     Yvonne    Farmer     Fitzgerald-Harrell   \n",
      "99    100  2354a0E336A91A1   Clarence    Haynes     Le, Nash and Cross   \n",
      "\n",
      "               City          Country               Phone 1  \\\n",
      "95     East Richard           Guyana   (188)169-1674x58692   \n",
      "96     New Bradview        Sri Lanka       +1-846-706-2218   \n",
      "97       Ortegaland  Solomon Islands  +1-753-067-8419x7170   \n",
      "98  Lake Elijahview            Aruba         (530)311-9786   \n",
      "99        Judymouth         Honduras         (753)813-6941   \n",
      "\n",
      "                   Phone 2                           Email Subscription Date  \\\n",
      "95    001-841-293-3519x614                hhart@jensen.com        2022-01-30   \n",
      "96            605.413.3198               vkemp@ferrell.com        2021-07-10   \n",
      "97   +1-632-666-7507x92121                swagner@kane.org        2021-09-18   \n",
      "98  001-869-452-0943x12424  mccarthystephen@horn-green.biz        2021-08-11   \n",
      "99            783.639.1472          colleen91@faulkner.biz        2020-03-11   \n",
      "\n",
      "                              Website  \n",
      "95            http://hayes-perez.com/  \n",
      "96         https://novak-allison.com/  \n",
      "97              https://www.ross.com/  \n",
      "98               http://watkins.info/  \n",
      "99  http://www.hatfield-saunders.net/  \n",
      "\n",
      "---------------------------------------------------------------------------------------------------------------\n",
      "printing info of the file:\n",
      "<class 'pandas.core.frame.DataFrame'>\n",
      "RangeIndex: 100 entries, 0 to 99\n",
      "Data columns (total 12 columns):\n",
      " #   Column             Non-Null Count  Dtype \n",
      "---  ------             --------------  ----- \n",
      " 0   Index              100 non-null    int64 \n",
      " 1   Customer Id        100 non-null    object\n",
      " 2   First Name         100 non-null    object\n",
      " 3   Last Name          100 non-null    object\n",
      " 4   Company            100 non-null    object\n",
      " 5   City               100 non-null    object\n",
      " 6   Country            100 non-null    object\n",
      " 7   Phone 1            100 non-null    object\n",
      " 8   Phone 2            100 non-null    object\n",
      " 9   Email              100 non-null    object\n",
      " 10  Subscription Date  100 non-null    object\n",
      " 11  Website            100 non-null    object\n",
      "dtypes: int64(1), object(11)\n",
      "memory usage: 9.5+ KB\n",
      "None\n",
      "\n",
      "---------------------------------------------------------------------------------------------------------------\n",
      "Printing overview of the values of each column:\n",
      "             Index      Customer Id First Name Last Name    Company  \\\n",
      "count   100.000000              100        100       100        100   \n",
      "unique         NaN              100         93        97         99   \n",
      "top            NaN  DD37Cf93aecA6Dc     Sheryl     Foley  Simon LLC   \n",
      "freq           NaN                1          2         2          2   \n",
      "mean     50.500000              NaN        NaN       NaN        NaN   \n",
      "std      29.011492              NaN        NaN       NaN        NaN   \n",
      "min       1.000000              NaN        NaN       NaN        NaN   \n",
      "25%      25.750000              NaN        NaN       NaN        NaN   \n",
      "50%      50.500000              NaN        NaN       NaN        NaN   \n",
      "75%      75.250000              NaN        NaN       NaN        NaN   \n",
      "max     100.000000              NaN        NaN       NaN        NaN   \n",
      "\n",
      "                City          Country       Phone 1           Phone 2  \\\n",
      "count            100              100           100               100   \n",
      "unique           100               85           100               100   \n",
      "top     East Leonard  Solomon Islands  229.077.5154  397.884.0519x718   \n",
      "freq               1                4             1                 1   \n",
      "mean             NaN              NaN           NaN               NaN   \n",
      "std              NaN              NaN           NaN               NaN   \n",
      "min              NaN              NaN           NaN               NaN   \n",
      "25%              NaN              NaN           NaN               NaN   \n",
      "50%              NaN              NaN           NaN               NaN   \n",
      "75%              NaN              NaN           NaN               NaN   \n",
      "max              NaN              NaN           NaN               NaN   \n",
      "\n",
      "                           Email Subscription Date                     Website  \n",
      "count                        100               100                         100  \n",
      "unique                       100                96                         100  \n",
      "top     zunigavanessa@smith.info        2021-04-23  http://www.stephenson.com/  \n",
      "freq                           1                 2                           1  \n",
      "mean                         NaN               NaN                         NaN  \n",
      "std                          NaN               NaN                         NaN  \n",
      "min                          NaN               NaN                         NaN  \n",
      "25%                          NaN               NaN                         NaN  \n",
      "50%                          NaN               NaN                         NaN  \n",
      "75%                          NaN               NaN                         NaN  \n",
      "max                          NaN               NaN                         NaN  \n",
      "\n",
      "---------------------------------------------------------------------------------------------------------------\n"
     ]
    },
    {
     "data": {
      "image/png": "[encoded data removed]",
      "text/plain": [
       "<Figure size 640x480 with 1 Axes>"
      ]
     },
     "metadata": {},
     "output_type": "display_data"
    }
   ],
   "source": [
    "import pandas as pd\n",
    "import matplotlib.pyplot as plt\n",
    "df = pd.read_csv(\"customers-100.csv\")\n",
    "print(\"First 5 rows:\")\n",
    "print(df.head(5))\n",
    "print()\n",
    "print(\"------------------------------------------------------------------------------------------------------------------\")\n",
    "print(\"Last 5 rows:\")\n",
    "print()\n",
    "print(df.tail(5))\n",
    "print()\n",
    "print(\"---------------------------------------------------------------------------------------------------------------\")\n",
    "print(\"printing info of the file:\")\n",
    "print(df.info())\n",
    "print()\n",
    "print(\"---------------------------------------------------------------------------------------------------------------\")\n",
    "print(\"Printing overview of the values of each column:\")\n",
    "print(df.describe(include='all'))\n",
    "print()\n",
    "print(\"---------------------------------------------------------------------------------------------------------------\")\n",
    "df.plot()\n",
    "plt.show()"
   ]
  },
  {
   "cell_type": "code",
   "execution_count": 84,
   "id": "2809635a-363a-4669-b334-91969f76b901",
   "metadata": {},
   "outputs": [
    {
     "name": "stdout",
     "output_type": "stream",
     "text": [
      "using only plot function\n"
     ]
    },
    {
     "data": {
      "image/png": "[encoded data removed]",
      "text/plain": [
       "<Figure size 640x480 with 1 Axes>"
      ]
     },
     "metadata": {},
     "output_type": "display_data"
    },
    {
     "name": "stdout",
     "output_type": "stream",
     "text": [
      "-------------------------------------------------------------------------------------------------\n",
      "Drawing scatter graph:\n"
     ]
    },
    {
     "data": {
      "image/png": "[encoded data removed]",
      "text/plain": [
       "<Figure size 640x480 with 1 Axes>"
      ]
     },
     "metadata": {},
     "output_type": "display_data"
    },
    {
     "name": "stdout",
     "output_type": "stream",
     "text": [
      "drawing scatter graph of any column usinf different colour\n"
     ]
    },
    {
     "data": {
      "image/png": "[encoded data removed]",
      "text/plain": [
       "<Figure size 640x480 with 1 Axes>"
      ]
     },
     "metadata": {},
     "output_type": "display_data"
    },
    {
     "name": "stdout",
     "output_type": "stream",
     "text": [
      "Drawing histogram using any column of data\n"
     ]
    },
    {
     "data": {
      "image/png": "[encoded data removed]",
      "text/plain": [
       "<Figure size 640x480 with 1 Axes>"
      ]
     },
     "metadata": {},
     "output_type": "display_data"
    }
   ],
   "source": [
    "import pandas as pd\n",
    "import matplotlib.pyplot as plt\n",
    "f = pd.read_csv(\"customers-100.csv\")\n",
    "df = f.head(5)\n",
    "print(\"using only plot function\")\n",
    "df.plot()\n",
    "plt.show()\n",
    "print(\"-------------------------------------------------------------------------------------------------\")\n",
    "print(\"Drawing scatter graph:\")\n",
    "df.plot(kind = \"scatter\",x = \"Phone 1\",y = \"Phone 2\")\n",
    "plt.show()\n",
    "print(\"drawing scatter graph of any column usinf different colour\")\n",
    "df.plot(kind = \"scatter\",x = \"Phone 1\",y=\"Phone 2\",color = \"r\")\n",
    "plt.show()\n",
    "print(\"Drawing histogram using any column of data\")\n",
    "df[\"Index\"].plot(kind = \"hist\",color= \"g\")\n",
    "plt.show()"
   ]
  },
  {
   "cell_type": "code",
   "execution_count": 94,
   "id": "fa6081ad-2fe9-4669-b37b-06859e674551",
   "metadata": {},
   "outputs": [
    {
     "name": "stdin",
     "output_type": "stream",
     "text": [
      "Enter a number:  11\n"
     ]
    },
    {
     "name": "stdout",
     "output_type": "stream",
     "text": [
      "0.9090909090909091\n",
      "Key not found\n"
     ]
    }
   ],
   "source": [
    "mybook = {'a':12,'b':14}\n",
    "mylist = [1,2,4,5,6]\n",
    "try:\n",
    "    \n",
    "    n = int(input(\"Enter a number: \"))\n",
    "    x = 10 / n\n",
    "    print(x)\n",
    "    print(mybook['c'])\n",
    "    print(mylist[6])\n",
    "    print(y)\n",
    "except ValueError:\n",
    "    print(\"Entered value is not a valid number\")\n",
    "except ZeroDivisionError:\n",
    "    print(\"Can't divide by zero\")\n",
    "except NameError:\n",
    "    print(\"Not defined\")\n",
    "except IndexError:\n",
    "    print('Out of index')\n",
    "except KeyError:\n",
    "    print('Key not found')"
   ]
  },
  {
   "cell_type": "code",
   "execution_count": 101,
   "id": "a038d184-b726-4047-9fe2-45351e356edb",
   "metadata": {},
   "outputs": [
    {
     "name": "stdin",
     "output_type": "stream",
     "text": [
      " sakshirk@1507\n"
     ]
    },
    {
     "name": "stdout",
     "output_type": "stream",
     "text": [
      "6\n",
      "2\n",
      "4\n",
      "1\n"
     ]
    }
   ],
   "source": [
    "import re\n",
    "text = input()\n",
    "digit = r'\\d'\n",
    "vowels = r'[aeiouAEIOU]'\n",
    "consonents = r'[BCDFGHIJKLMNPQRSTVWXYZbcdfghjklmnpqrstvwxyz]'\n",
    "special_chars_pattern = r'[^a-zA-Z0-9]'\n",
    "\n",
    "countd = countv = countc =counts =  0\n",
    "countd = len(re.findall(digit,text))\n",
    "countv = len(re.findall(vowels,text))\n",
    "\n",
    "countc = len(re.findall(consonents,text))\n",
    "counts = len(re.findall(special_chars_pattern, text))\n",
    "    \n",
    "\n",
    "print(countc)\n",
    "print(countv)\n",
    "print(countd)\n",
    "print(counts)"
   ]
  },
  {
   "cell_type": "code",
   "execution_count": 102,
   "id": "75f150b8-b276-4c19-911d-652f78670af8",
   "metadata": {},
   "outputs": [
    {
     "name": "stdin",
     "output_type": "stream",
     "text": [
      "Enter a line of text:  hoi[ifgb\n",
      "Enter a line of text:  fjgh\n",
      "Enter a line of text:  fjfdg\n",
      "Enter a line of text:  fudsi\n",
      "Enter a line of text:  jdsgbj\n"
     ]
    },
    {
     "name": "stdout",
     "output_type": "stream",
     "text": [
      "Uppercase letters: 0\n",
      "Lowercase letters: 27\n",
      "Digits: 0\n"
     ]
    }
   ],
   "source": [
    "def count_text_characters(filename):\n",
    "    with open(filename, 'r') as file:\n",
    "        text = file.read()\n",
    "    \n",
    "    uppercase_count = len(re.findall(r'[A-Z]', text))\n",
    "    lowercase_count = len(re.findall(r'[a-z]', text))\n",
    "    digits_count = len(re.findall(r'\\d', text))\n",
    "    \n",
    "    print(f\"Uppercase letters: {uppercase_count}\")\n",
    "    print(f\"Lowercase letters: {lowercase_count}\")\n",
    "    print(f\"Digits: {digits_count}\")\n",
    "\n",
    "# Create a file and ask the user to input text\n",
    "with open(\"text_file_count.txt\", \"w\") as file:\n",
    "    for _ in range(5):\n",
    "        line = input(\"Enter a line of text: \")\n",
    "        file.write(line + \"\\n\")\n",
    "\n",
    "count_text_characters(\"text_file_count.txt\")\n"
   ]
  },
  {
   "cell_type": "code",
   "execution_count": null,
   "id": "86d6a56c-e0c9-436d-a8d0-94a1c4a105c5",
   "metadata": {},
   "outputs": [],
   "source": []
  }
 ],
 "metadata": {
  "kernelspec": {
   "display_name": "Python 3 (ipykernel)",
   "language": "python",
   "name": "python3"
  },
  "language_info": {
   "codemirror_mode": {
    "name": "ipython",
    "version": 3
   },
   "file_extension": ".py",
   "mimetype": "text/x-python",
   "name": "python",
   "nbconvert_exporter": "python",
   "pygments_lexer": "ipython3",
   "version": "3.12.4"
  }
 },
 "nbformat": 4,
 "nbformat_minor": 5
}
